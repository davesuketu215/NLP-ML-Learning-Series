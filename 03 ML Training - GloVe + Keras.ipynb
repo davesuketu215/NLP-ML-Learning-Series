{
 "cells": [
  {
   "cell_type": "code",
   "execution_count": 1,
   "id": "e3aa3ce9-a0f4-4f08-84a6-57360e328f75",
   "metadata": {},
   "outputs": [],
   "source": [
    "import pandas as pd\n",
    "import nltk\n",
    "from nltk.corpus import wordnet\n",
    "from nltk.stem import WordNetLemmatizer"
   ]
  },
  {
   "cell_type": "code",
   "execution_count": 2,
   "id": "c06b1514-9387-4c46-8745-d8010206f9e4",
   "metadata": {},
   "outputs": [
    {
     "data": {
      "text/html": [
       "<div>\n",
       "<style scoped>\n",
       "    .dataframe tbody tr th:only-of-type {\n",
       "        vertical-align: middle;\n",
       "    }\n",
       "\n",
       "    .dataframe tbody tr th {\n",
       "        vertical-align: top;\n",
       "    }\n",
       "\n",
       "    .dataframe thead th {\n",
       "        text-align: right;\n",
       "    }\n",
       "</style>\n",
       "<table border=\"1\" class=\"dataframe\">\n",
       "  <thead>\n",
       "    <tr style=\"text-align: right;\">\n",
       "      <th></th>\n",
       "      <th>uuid</th>\n",
       "      <th>title</th>\n",
       "      <th>author</th>\n",
       "      <th>abstract</th>\n",
       "      <th>Keywords</th>\n",
       "      <th>label</th>\n",
       "    </tr>\n",
       "  </thead>\n",
       "  <tbody>\n",
       "    <tr>\n",
       "      <th>0</th>\n",
       "      <td>0</td>\n",
       "      <td>Accessible Visual Artworks for Blind and Visua...</td>\n",
       "      <td>Quero, Luis Cavazos; Bartolome, Jorge Iranzo; ...</td>\n",
       "      <td>Despite the use of tactile graphics and audio ...</td>\n",
       "      <td>accessibility technology; multimodal interacti...</td>\n",
       "      <td>0</td>\n",
       "    </tr>\n",
       "    <tr>\n",
       "      <th>1</th>\n",
       "      <td>1</td>\n",
       "      <td>Seizure Detection and Prediction by Parallel M...</td>\n",
       "      <td>Li, Chenqi; Lammie, Corey; Dong, Xuening; Amir...</td>\n",
       "      <td>During the past two decades, epileptic seizure...</td>\n",
       "      <td>CNN; Seizure Detection; Seizure Prediction; EE...</td>\n",
       "      <td>1</td>\n",
       "    </tr>\n",
       "    <tr>\n",
       "      <th>2</th>\n",
       "      <td>2</td>\n",
       "      <td>Fast ScanNet: Fast and Dense Analysis of Multi...</td>\n",
       "      <td>Lin, Huangjing; Chen, Hao; Graham, Simon; Dou,...</td>\n",
       "      <td>Lymph node metastasis is one of the most impor...</td>\n",
       "      <td>Histopathology image analysis; computational p...</td>\n",
       "      <td>1</td>\n",
       "    </tr>\n",
       "    <tr>\n",
       "      <th>3</th>\n",
       "      <td>3</td>\n",
       "      <td>Long-Term Effectiveness of Antiretroviral Ther...</td>\n",
       "      <td>Huang, Peng; Tan, Jingguang; Ma, Wenzhe; Zheng...</td>\n",
       "      <td>In order to assess the effectiveness of the Ch...</td>\n",
       "      <td>HIV; ART; mortality; observational cohort stud...</td>\n",
       "      <td>0</td>\n",
       "    </tr>\n",
       "    <tr>\n",
       "      <th>4</th>\n",
       "      <td>4</td>\n",
       "      <td>Real-Time Facial Affective Computing on Mobile...</td>\n",
       "      <td>Guo, Yuanyuan; Xia, Yifan; Wang, Jing; Yu, Hui...</td>\n",
       "      <td>Convolutional Neural Networks (CNNs) have beco...</td>\n",
       "      <td>facial affective computing; convolutional neur...</td>\n",
       "      <td>0</td>\n",
       "    </tr>\n",
       "  </tbody>\n",
       "</table>\n",
       "</div>"
      ],
      "text/plain": [
       "   uuid                                              title  \\\n",
       "0     0  Accessible Visual Artworks for Blind and Visua...   \n",
       "1     1  Seizure Detection and Prediction by Parallel M...   \n",
       "2     2  Fast ScanNet: Fast and Dense Analysis of Multi...   \n",
       "3     3  Long-Term Effectiveness of Antiretroviral Ther...   \n",
       "4     4  Real-Time Facial Affective Computing on Mobile...   \n",
       "\n",
       "                                              author  \\\n",
       "0  Quero, Luis Cavazos; Bartolome, Jorge Iranzo; ...   \n",
       "1  Li, Chenqi; Lammie, Corey; Dong, Xuening; Amir...   \n",
       "2  Lin, Huangjing; Chen, Hao; Graham, Simon; Dou,...   \n",
       "3  Huang, Peng; Tan, Jingguang; Ma, Wenzhe; Zheng...   \n",
       "4  Guo, Yuanyuan; Xia, Yifan; Wang, Jing; Yu, Hui...   \n",
       "\n",
       "                                            abstract  \\\n",
       "0  Despite the use of tactile graphics and audio ...   \n",
       "1  During the past two decades, epileptic seizure...   \n",
       "2  Lymph node metastasis is one of the most impor...   \n",
       "3  In order to assess the effectiveness of the Ch...   \n",
       "4  Convolutional Neural Networks (CNNs) have beco...   \n",
       "\n",
       "                                            Keywords  label  \n",
       "0  accessibility technology; multimodal interacti...      0  \n",
       "1  CNN; Seizure Detection; Seizure Prediction; EE...      1  \n",
       "2  Histopathology image analysis; computational p...      1  \n",
       "3  HIV; ART; mortality; observational cohort stud...      0  \n",
       "4  facial affective computing; convolutional neur...      0  "
      ]
     },
     "execution_count": 2,
     "metadata": {},
     "output_type": "execute_result"
    }
   ],
   "source": [
    "data_df = pd.read_csv(\"./data/input/train.csv\")\n",
    "data_df.head()"
   ]
  },
  {
   "cell_type": "code",
   "execution_count": 3,
   "id": "ef9d7310-bb3a-4ba7-a473-8588e0c13ea6",
   "metadata": {},
   "outputs": [
    {
     "name": "stdout",
     "output_type": "stream",
     "text": [
      "(6000, 2)\n"
     ]
    }
   ],
   "source": [
    "data_df.drop(columns=['uuid', 'title', 'author', 'Keywords'], inplace=True, axis=1)\n",
    "print(data_df.shape)"
   ]
  },
  {
   "cell_type": "code",
   "execution_count": null,
   "id": "3d3a26cb-98e0-4be4-b0f7-8655c4b840d9",
   "metadata": {},
   "outputs": [],
   "source": []
  },
  {
   "cell_type": "code",
   "execution_count": 4,
   "id": "92194a58-57b2-4e89-a38b-e93784744f39",
   "metadata": {},
   "outputs": [],
   "source": [
    "lemmatizer = WordNetLemmatizer()"
   ]
  },
  {
   "cell_type": "code",
   "execution_count": 5,
   "id": "e5f0898c-7b9f-4555-bf3e-689cd402611e",
   "metadata": {},
   "outputs": [],
   "source": [
    "def get_wordnet_pos(word):\n",
    "    \"\"\"Map POS tag to first character lemmatize() accepts\"\"\"\n",
    "    tag = nltk.pos_tag([word])[0][1][0].upper()\n",
    "    tag_dict = {\"J\": wordnet.ADJ,\n",
    "                \"N\": wordnet.NOUN,\n",
    "                \"V\": wordnet.VERB,\n",
    "                \"R\": wordnet.ADV}\n",
    "\n",
    "    return tag_dict.get(tag, wordnet.NOUN)"
   ]
  },
  {
   "cell_type": "code",
   "execution_count": 6,
   "id": "d2677a16-f79c-4041-bfb7-bd3ae3d8af07",
   "metadata": {},
   "outputs": [],
   "source": [
    "stopwords = set(nltk.corpus.stopwords.words('english'))"
   ]
  },
  {
   "cell_type": "code",
   "execution_count": 7,
   "id": "870e699f-d650-4abe-aefc-1023f26eb5a6",
   "metadata": {},
   "outputs": [
    {
     "data": {
      "text/html": [
       "<div>\n",
       "<style scoped>\n",
       "    .dataframe tbody tr th:only-of-type {\n",
       "        vertical-align: middle;\n",
       "    }\n",
       "\n",
       "    .dataframe tbody tr th {\n",
       "        vertical-align: top;\n",
       "    }\n",
       "\n",
       "    .dataframe thead th {\n",
       "        text-align: right;\n",
       "    }\n",
       "</style>\n",
       "<table border=\"1\" class=\"dataframe\">\n",
       "  <thead>\n",
       "    <tr style=\"text-align: right;\">\n",
       "      <th></th>\n",
       "      <th>abstract</th>\n",
       "      <th>label</th>\n",
       "      <th>custom_tokenized</th>\n",
       "    </tr>\n",
       "  </thead>\n",
       "  <tbody>\n",
       "    <tr>\n",
       "      <th>0</th>\n",
       "      <td>Despite the use of tactile graphics and audio ...</td>\n",
       "      <td>0</td>\n",
       "      <td>[despite, use, tactile, graphics, audio, guide...</td>\n",
       "    </tr>\n",
       "    <tr>\n",
       "      <th>1</th>\n",
       "      <td>During the past two decades, epileptic seizure...</td>\n",
       "      <td>1</td>\n",
       "      <td>[past, two, decades, epileptic, seizure, detec...</td>\n",
       "    </tr>\n",
       "    <tr>\n",
       "      <th>2</th>\n",
       "      <td>Lymph node metastasis is one of the most impor...</td>\n",
       "      <td>1</td>\n",
       "      <td>[lymph, node, metastasis, one, important, indi...</td>\n",
       "    </tr>\n",
       "    <tr>\n",
       "      <th>3</th>\n",
       "      <td>In order to assess the effectiveness of the Ch...</td>\n",
       "      <td>0</td>\n",
       "      <td>[order, assess, effectiveness, chinese, govern...</td>\n",
       "    </tr>\n",
       "    <tr>\n",
       "      <th>4</th>\n",
       "      <td>Convolutional Neural Networks (CNNs) have beco...</td>\n",
       "      <td>0</td>\n",
       "      <td>[convolutional, neural, networks, cnns, become...</td>\n",
       "    </tr>\n",
       "    <tr>\n",
       "      <th>5</th>\n",
       "      <td>Previously we showed the generation of a prote...</td>\n",
       "      <td>1</td>\n",
       "      <td>[previously, showed, generation, protein, trap...</td>\n",
       "    </tr>\n",
       "    <tr>\n",
       "      <th>6</th>\n",
       "      <td>Facial emotion recognition (FER) is a field of...</td>\n",
       "      <td>0</td>\n",
       "      <td>[facial, emotion, recognition, fer, field, res...</td>\n",
       "    </tr>\n",
       "    <tr>\n",
       "      <th>7</th>\n",
       "      <td>This paper proposes a machine learning model b...</td>\n",
       "      <td>0</td>\n",
       "      <td>[paper, proposes, machine, learning, model, ba...</td>\n",
       "    </tr>\n",
       "    <tr>\n",
       "      <th>8</th>\n",
       "      <td>Most current state-of-the-art blind image qual...</td>\n",
       "      <td>0</td>\n",
       "      <td>[current, state, art, blind, image, quality, a...</td>\n",
       "    </tr>\n",
       "    <tr>\n",
       "      <th>9</th>\n",
       "      <td>Surgical workflow recognition has numerous pot...</td>\n",
       "      <td>1</td>\n",
       "      <td>[surgical, workflow, recognition, numerous, po...</td>\n",
       "    </tr>\n",
       "    <tr>\n",
       "      <th>10</th>\n",
       "      <td>Due to the lack of available episomal plasmid,...</td>\n",
       "      <td>1</td>\n",
       "      <td>[due, lack, available, episomal, plasmid, impr...</td>\n",
       "    </tr>\n",
       "    <tr>\n",
       "      <th>11</th>\n",
       "      <td>In contrast to numerous studies on spermatozoa...</td>\n",
       "      <td>1</td>\n",
       "      <td>[contrast, numerous, studies, spermatozoa, len...</td>\n",
       "    </tr>\n",
       "    <tr>\n",
       "      <th>12</th>\n",
       "      <td>Study on finger knuckle patterns has attracted...</td>\n",
       "      <td>0</td>\n",
       "      <td>[study, finger, knuckle, patterns, attracted, ...</td>\n",
       "    </tr>\n",
       "    <tr>\n",
       "      <th>13</th>\n",
       "      <td>In the present work, we follow in chronologica...</td>\n",
       "      <td>0</td>\n",
       "      <td>[present, work, follow, chronological, order, ...</td>\n",
       "    </tr>\n",
       "    <tr>\n",
       "      <th>14</th>\n",
       "      <td>Curved text detection is a difficult problem t...</td>\n",
       "      <td>0</td>\n",
       "      <td>[curved, text, detection, difficult, problem, ...</td>\n",
       "    </tr>\n",
       "    <tr>\n",
       "      <th>15</th>\n",
       "      <td>Refugees are a vulnerable, growing population ...</td>\n",
       "      <td>1</td>\n",
       "      <td>[refugees, vulnerable, growing, population, co...</td>\n",
       "    </tr>\n",
       "    <tr>\n",
       "      <th>16</th>\n",
       "      <td>Weakly supervised object detection (WSOD) usin...</td>\n",
       "      <td>0</td>\n",
       "      <td>[weakly, supervised, object, detection, wsod, ...</td>\n",
       "    </tr>\n",
       "    <tr>\n",
       "      <th>17</th>\n",
       "      <td>This paper presents a novel, fast, group-wise ...</td>\n",
       "      <td>1</td>\n",
       "      <td>[paper, presents, novel, fast, group, wise, re...</td>\n",
       "    </tr>\n",
       "    <tr>\n",
       "      <th>18</th>\n",
       "      <td>Limited by the electrostatic interaction, the ...</td>\n",
       "      <td>1</td>\n",
       "      <td>[limited, electrostatic, interaction, oxidatio...</td>\n",
       "    </tr>\n",
       "    <tr>\n",
       "      <th>19</th>\n",
       "      <td>The integration of analytical strategies and g...</td>\n",
       "      <td>0</td>\n",
       "      <td>[integration, analytical, strategies, global, ...</td>\n",
       "    </tr>\n",
       "  </tbody>\n",
       "</table>\n",
       "</div>"
      ],
      "text/plain": [
       "                                             abstract  label  \\\n",
       "0   Despite the use of tactile graphics and audio ...      0   \n",
       "1   During the past two decades, epileptic seizure...      1   \n",
       "2   Lymph node metastasis is one of the most impor...      1   \n",
       "3   In order to assess the effectiveness of the Ch...      0   \n",
       "4   Convolutional Neural Networks (CNNs) have beco...      0   \n",
       "5   Previously we showed the generation of a prote...      1   \n",
       "6   Facial emotion recognition (FER) is a field of...      0   \n",
       "7   This paper proposes a machine learning model b...      0   \n",
       "8   Most current state-of-the-art blind image qual...      0   \n",
       "9   Surgical workflow recognition has numerous pot...      1   \n",
       "10  Due to the lack of available episomal plasmid,...      1   \n",
       "11  In contrast to numerous studies on spermatozoa...      1   \n",
       "12  Study on finger knuckle patterns has attracted...      0   \n",
       "13  In the present work, we follow in chronologica...      0   \n",
       "14  Curved text detection is a difficult problem t...      0   \n",
       "15  Refugees are a vulnerable, growing population ...      1   \n",
       "16  Weakly supervised object detection (WSOD) usin...      0   \n",
       "17  This paper presents a novel, fast, group-wise ...      1   \n",
       "18  Limited by the electrostatic interaction, the ...      1   \n",
       "19  The integration of analytical strategies and g...      0   \n",
       "\n",
       "                                     custom_tokenized  \n",
       "0   [despite, use, tactile, graphics, audio, guide...  \n",
       "1   [past, two, decades, epileptic, seizure, detec...  \n",
       "2   [lymph, node, metastasis, one, important, indi...  \n",
       "3   [order, assess, effectiveness, chinese, govern...  \n",
       "4   [convolutional, neural, networks, cnns, become...  \n",
       "5   [previously, showed, generation, protein, trap...  \n",
       "6   [facial, emotion, recognition, fer, field, res...  \n",
       "7   [paper, proposes, machine, learning, model, ba...  \n",
       "8   [current, state, art, blind, image, quality, a...  \n",
       "9   [surgical, workflow, recognition, numerous, po...  \n",
       "10  [due, lack, available, episomal, plasmid, impr...  \n",
       "11  [contrast, numerous, studies, spermatozoa, len...  \n",
       "12  [study, finger, knuckle, patterns, attracted, ...  \n",
       "13  [present, work, follow, chronological, order, ...  \n",
       "14  [curved, text, detection, difficult, problem, ...  \n",
       "15  [refugees, vulnerable, growing, population, co...  \n",
       "16  [weakly, supervised, object, detection, wsod, ...  \n",
       "17  [paper, presents, novel, fast, group, wise, re...  \n",
       "18  [limited, electrostatic, interaction, oxidatio...  \n",
       "19  [integration, analytical, strategies, global, ...  "
      ]
     },
     "execution_count": 7,
     "metadata": {},
     "output_type": "execute_result"
    }
   ],
   "source": [
    "import re\n",
    "import numpy as np\n",
    "\n",
    "do_remove_punct = True\n",
    "do_lemmatize = False\n",
    "do_lowercase = True\n",
    "do_remove_stop = True\n",
    "do_remove_nums = True\n",
    "\n",
    "def custom_tokenize(row):\n",
    "    text = row['abstract']\n",
    "    \n",
    "    # 01 - Punctuations\n",
    "    if do_remove_punct:\n",
    "        text = re.sub(r'([^\\w\\s])', ' ', text)\n",
    "\n",
    "    # 02 - Lemmatization\n",
    "    if do_lemmatize:\n",
    "        tokens_list = nltk.word_tokenize(text)\n",
    "        text = ' '.join([lemmatizer.lemmatize(t, get_wordnet_pos(t)) for t in tokens_list])\n",
    "\n",
    "    # 03 - Lowercasing\n",
    "    if do_lowercase:\n",
    "        text = text.lower()\n",
    "\n",
    "    # 04 - Removing stop words (i.e. grammar defining words, not adding value to main topic)\n",
    "    if do_remove_stop:\n",
    "        text = ' '.join([t for t in text.split() if t not in stopwords])\n",
    "\n",
    "    # 05 - Removing numbers\n",
    "    if do_remove_nums:\n",
    "        text = re.sub(r'\\b[0-9]+\\b', ' ', text)\n",
    "\n",
    "    # Removing redundant spaces\n",
    "    text = re.sub(r' +', ' ', text)\n",
    "\n",
    "    row['custom_tokenized'] = text.split()\n",
    "    return row\n",
    "\n",
    "data_df['custom_tokenized'] = [list() for _ in range(data_df.shape[0])]\n",
    "data_df = data_df.apply(custom_tokenize, axis=1)\n",
    "\n",
    "data_df.head(20)"
   ]
  },
  {
   "cell_type": "code",
   "execution_count": null,
   "id": "b8213290-596d-4248-8902-53d18f851c68",
   "metadata": {},
   "outputs": [],
   "source": []
  },
  {
   "cell_type": "code",
   "execution_count": null,
   "id": "3dc838a1-4ef5-47bb-9555-92bcaaee3036",
   "metadata": {},
   "outputs": [],
   "source": []
  },
  {
   "cell_type": "markdown",
   "id": "69e01cda-8f19-423c-9f6c-320d376bebf9",
   "metadata": {},
   "source": [
    "# Embeddings\n",
    "## GloVe"
   ]
  },
  {
   "cell_type": "markdown",
   "id": "4fbcad00-4af4-4904-8be7-8b6b2f88ee25",
   "metadata": {},
   "source": [
    "### Installing GloVe Vectors"
   ]
  },
  {
   "cell_type": "code",
   "execution_count": 8,
   "id": "d0657a4b-0257-4ae3-bc62-cc9988160250",
   "metadata": {},
   "outputs": [],
   "source": [
    "# %%capture\n",
    "# !pip install wget"
   ]
  },
  {
   "cell_type": "code",
   "execution_count": 9,
   "id": "3eace06e-f17a-4b67-a446-1ff17e7f6d53",
   "metadata": {},
   "outputs": [],
   "source": [
    "# import wget\n",
    "# wget.download('http://nlp.stanford.edu/data/glove.6B.zip')\n",
    "\n",
    "# import shutil\n",
    "# # Specify the path to the zip file and the target directory\n",
    "# filename = 'glove.6B.zip'\n",
    "# extract_dir = 'glove/'\n",
    "# # Unpack the contents of the zip file into the specified directory\n",
    "# shutil.unpack_archive(filename, extract_dir)"
   ]
  },
  {
   "cell_type": "markdown",
   "id": "7fa51561-f27a-4581-bf55-a2482a1962db",
   "metadata": {},
   "source": [
    "### Using 50-d"
   ]
  },
  {
   "cell_type": "code",
   "execution_count": 10,
   "id": "f5b9f550-b670-4aad-9368-96fb164086ca",
   "metadata": {},
   "outputs": [
    {
     "name": "stdout",
     "output_type": "stream",
     "text": [
      "CPU times: total: 31.4 s\n",
      "Wall time: 51.4 s\n"
     ]
    }
   ],
   "source": [
    "%%time\n",
    "\n",
    "import numpy as np\n",
    "\n",
    "glove_embeddings = {}\n",
    "with open(\"./glove/glove.6B.300d.txt\", encoding='utf-8') as f:\n",
    "    for line in f:\n",
    "        try:\n",
    "            line = line.split()\n",
    "            glove_embeddings[line[0]] = np.array(line[1:], dtype=np.float32)\n",
    "        except:\n",
    "            continue"
   ]
  },
  {
   "cell_type": "code",
   "execution_count": 11,
   "id": "9f0f104d-9e07-4f79-a9fe-f42f46190ec8",
   "metadata": {},
   "outputs": [
    {
     "data": {
      "text/plain": [
       "400000"
      ]
     },
     "execution_count": 11,
     "metadata": {},
     "output_type": "execute_result"
    }
   ],
   "source": [
    "len(glove_embeddings)"
   ]
  },
  {
   "cell_type": "code",
   "execution_count": 12,
   "id": "43d003ef-41bc-4945-9193-e2c7f24b5229",
   "metadata": {},
   "outputs": [
    {
     "data": {
      "text/plain": [
       "(300,)"
      ]
     },
     "execution_count": 12,
     "metadata": {},
     "output_type": "execute_result"
    }
   ],
   "source": [
    "glove_embeddings['the'].shape"
   ]
  },
  {
   "cell_type": "code",
   "execution_count": null,
   "id": "890256a1-ba4b-4d5e-ba14-367626b5eeea",
   "metadata": {},
   "outputs": [],
   "source": []
  },
  {
   "cell_type": "code",
   "execution_count": null,
   "id": "e25d4b56-b849-4be4-857f-032ba8aef04e",
   "metadata": {},
   "outputs": [],
   "source": []
  },
  {
   "cell_type": "code",
   "execution_count": null,
   "id": "af58b839-d40d-4c3b-9115-4a5638454113",
   "metadata": {},
   "outputs": [],
   "source": []
  },
  {
   "cell_type": "code",
   "execution_count": null,
   "id": "1f6ea97a-d5f3-400e-b9e7-0122f717d463",
   "metadata": {},
   "outputs": [],
   "source": []
  },
  {
   "cell_type": "markdown",
   "id": "2f28f1e1-1aa7-42bb-9cdc-c5d0daef0f65",
   "metadata": {},
   "source": [
    "## Data Split"
   ]
  },
  {
   "cell_type": "code",
   "execution_count": 13,
   "id": "e22f7e09-aacd-4e09-bde5-4dcf2f643108",
   "metadata": {},
   "outputs": [],
   "source": [
    "from sklearn.model_selection import train_test_split\n",
    "\n",
    "X = data_df[['abstract']]\n",
    "Y = data_df[['label']]\n",
    "\n",
    "X_train_text, X_test_text, Y_train, Y_test = train_test_split(X, Y, test_size=0.2, shuffle=True, random_state=42)\n",
    "del X, Y"
   ]
  },
  {
   "cell_type": "code",
   "execution_count": 14,
   "id": "bdc3b608-9129-4a0d-b88c-8cd8301a8c91",
   "metadata": {},
   "outputs": [],
   "source": [
    "# X_train_text"
   ]
  },
  {
   "cell_type": "code",
   "execution_count": 15,
   "id": "ab6ef20a-5ba6-4f6b-93b6-44757b88b362",
   "metadata": {},
   "outputs": [
    {
     "name": "stdout",
     "output_type": "stream",
     "text": [
      "[[   45  3412     8    19   145  3286   503     7   162     2     1    18\n",
      "      2     1    14   116    54     7  1211    48   104   456   616   298\n",
      "   1354  3412     8   401   230  3069     5     1   196     4   723    12\n",
      "     82     6   196   161    45  3412   120     5  1096     6   391    21\n",
      "     45   403    10   258   661     5     6   159   196    38    61    10\n",
      "   3175    36   449   196 12391  3412   120     3   176   466  3412   120\n",
      "   8091   530     4   154     1    24    31  6546     1    45    15   944\n",
      "      2   608   828  3547     6   440  4937   193   884   109     6  2553\n",
      "    478     1   255     2     1  4937   193    10  2320   196   161   589\n",
      "   8628   173  4662    17   945    21    11  1236   318   924   398   319\n",
      "   2527    36   196   161   150    30     1   319  2527    55  1024     5\n",
      "      6   151  1487   436    96     1  1102     2     1  2553   478    54\n",
      "      5  2320     1  4937   193   579     6  1250   187     2    90     5\n",
      "     26  2448     5   179 20085     3   774    12   392     1   987   196\n",
      "   1032  3412   116    11   114   522   142    27    72    10   196  1032\n",
      "   3412  1024     5   151  2418    38    61     1  3412  1081    15     1\n",
      "     18     2     1    14   467   796     3   466]\n",
      " [    1   666    97     2  6265     4  8629    63     8   673     7   385\n",
      "    323     3  5093     2  3616   237   176    94    55    21    33     7\n",
      "   6265    97    66    17  5424   141     5     1   320  1992   183     3\n",
      "      1   457  2942   325   321    41    33   271     1  1165  6265    97\n",
      "     27    15  3835  4538     1  1942   789    34    19 26218     3  2419\n",
      "    369   346   187     5    43    92     4    13    47    12    82     6\n",
      "     84 14131     9     6  1304  1324  2943  8630 20086    30  2085    31\n",
      "    688     7  2389     1  3836   533     4  6265    97     1 20086  7618\n",
      "   2943  8630    34     1    45     3   130   219     3  2145 26219     1\n",
      "    654   967  4663    20     1   168  1795  6265   457     9     1  1304\n",
      "   2062     5  3287     1   320   150   183     3     1   457  2942   325\n",
      "     52  1719  8631  8630   130   574  1719 26220   281     3  8630  1304\n",
      "    574  1719 16513   281    17  4539     5  1426     1   909  1228     4\n",
      "      1   150     2     1  2704  8630    30    12   163    82     6    52\n",
      "   1828    64  2852 14131     5 16514     1    97     3  1251    55     4\n",
      "     19   922   150   302     1  1251   574  2661  3020 26221     8  1187\n",
      "      5   155  2661     7     1  1251   574  1237]\n",
      " [    7    19  1668  1401     5  3176  6047     3   631    19   303     3\n",
      "    352   913    75     8   567    96   182    17     6   866     2  1401\n",
      "    913   119     4   326   182     8     6   767     2  1613     4  1103\n",
      "     41   119     3  1549    50  3288     3   879     7  1668  1401   139\n",
      "   1025    13    47  4938     1    18     2     1    14  1401   913   119\n",
      "      3  2784    50  2288    11  1668  1796     1    67  7224     9  5094\n",
      "      1   119    25  5821    88     1    78   271    20    11  3475  1401\n",
      "    888    42     8   334    10   425   188   119    29   257     1   100\n",
      "    520     7  1668  1120    91  1564    20     1    48   259     2     1\n",
      "    888     3    49   617    38   879     4    56  1120   709   118   245\n",
      "  26225     3  8093     3    56   350   220   118   245 20088     3  3761\n",
      "     13    47  4092     1    67     9   790     1   119    25  1694    20\n",
      "   1026  3475    78   271    20 26226   564  1438     4   217     5  1401\n",
      "   2554    78     1    67   468    10  9321  1026  3475    78     5  2554\n",
      "     78    39   134     5    93    87   259   913    98     9    48   100\n",
      "      3   774    66    50    38  1965    11  4093   221     2  4939  1599\n",
      "   1796    37  2112     3     1   135     2    62]]\n"
     ]
    },
    {
     "data": {
      "text/plain": [
       "((4800, 200), (1200, 200))"
      ]
     },
     "execution_count": 15,
     "metadata": {},
     "output_type": "execute_result"
    }
   ],
   "source": [
    "from keras.preprocessing.text import Tokenizer\n",
    "from keras.preprocessing.sequence import pad_sequences\n",
    "\n",
    "max_tokens = 200 ## Hyperparameter\n",
    "\n",
    "tokenizer = Tokenizer()\n",
    "tokenizer.fit_on_texts(X_train_text['abstract'].tolist()+X_test_text['abstract'].tolist())\n",
    "\n",
    "## Vectorizing data to keep 50 words per sample.\n",
    "X_train_vect = pad_sequences(tokenizer.texts_to_sequences(X_train_text['abstract'].tolist()), maxlen=max_tokens, padding=\"post\", truncating=\"post\", value=0.)\n",
    "X_test_vect  = pad_sequences(tokenizer.texts_to_sequences(X_test_text['abstract'].tolist()), maxlen=max_tokens, padding=\"post\", truncating=\"post\", value=0.)\n",
    "\n",
    "print(X_train_vect[:3])\n",
    "\n",
    "X_train_vect.shape, X_test_vect.shape"
   ]
  },
  {
   "cell_type": "code",
   "execution_count": 16,
   "id": "8af22283-ec76-4007-b38f-db72bbaf503e",
   "metadata": {},
   "outputs": [
    {
     "data": {
      "text/plain": [
       "array([   45,  3412,     8,    19,   145,  3286,   503,     7,   162,\n",
       "           2,     1,    18,     2,     1,    14,   116,    54,     7,\n",
       "        1211,    48,   104,   456,   616,   298,  1354,  3412,     8,\n",
       "         401,   230,  3069,     5,     1,   196,     4,   723,    12,\n",
       "          82,     6,   196,   161,    45,  3412,   120,     5,  1096,\n",
       "           6,   391,    21,    45,   403,    10,   258,   661,     5,\n",
       "           6,   159,   196,    38,    61,    10,  3175,    36,   449,\n",
       "         196, 12391,  3412,   120,     3,   176,   466,  3412,   120,\n",
       "        8091,   530,     4,   154,     1,    24,    31,  6546,     1,\n",
       "          45,    15,   944,     2,   608,   828,  3547,     6,   440,\n",
       "        4937,   193,   884,   109,     6,  2553,   478,     1,   255,\n",
       "           2,     1,  4937,   193,    10,  2320,   196,   161,   589,\n",
       "        8628,   173,  4662,    17,   945,    21,    11,  1236,   318,\n",
       "         924,   398,   319,  2527,    36,   196,   161,   150,    30,\n",
       "           1,   319,  2527,    55,  1024,     5,     6,   151,  1487,\n",
       "         436,    96,     1,  1102,     2,     1,  2553,   478,    54,\n",
       "           5,  2320,     1,  4937,   193,   579,     6,  1250,   187,\n",
       "           2,    90,     5,    26,  2448,     5,   179, 20085,     3,\n",
       "         774,    12,   392,     1,   987,   196,  1032,  3412,   116,\n",
       "          11,   114,   522,   142,    27,    72,    10,   196,  1032,\n",
       "        3412,  1024,     5,   151,  2418,    38,    61,     1,  3412,\n",
       "        1081,    15,     1,    18,     2,     1,    14,   467,   796,\n",
       "           3,   466])"
      ]
     },
     "execution_count": 16,
     "metadata": {},
     "output_type": "execute_result"
    }
   ],
   "source": [
    "X_train_vect[0]"
   ]
  },
  {
   "cell_type": "code",
   "execution_count": 17,
   "id": "f36c5b04-224d-4614-8f14-c3a723cdd133",
   "metadata": {},
   "outputs": [
    {
     "name": "stdout",
     "output_type": "stream",
     "text": [
      "CPU times: total: 31.2 ms\n",
      "Wall time: 155 ms\n"
     ]
    }
   ],
   "source": [
    "%%time\n",
    "\n",
    "embed_len = 300\n",
    "\n",
    "word_embeddings = np.zeros((len(tokenizer.index_word)+1, embed_len))\n",
    "\n",
    "for idx, word in tokenizer.index_word.items():\n",
    "    word_embeddings[idx] = glove_embeddings.get(word, np.zeros(embed_len))"
   ]
  },
  {
   "cell_type": "code",
   "execution_count": 18,
   "id": "61c72862-0b71-4e39-af08-132574b8f8f6",
   "metadata": {},
   "outputs": [],
   "source": [
    "target_classes = ['0', '1']"
   ]
  },
  {
   "cell_type": "code",
   "execution_count": null,
   "id": "ac34af27-bcaa-4b68-9438-cafa3df69155",
   "metadata": {},
   "outputs": [],
   "source": []
  },
  {
   "cell_type": "code",
   "execution_count": 19,
   "id": "f0324c69-0d37-43f8-a4c5-721673fd572b",
   "metadata": {},
   "outputs": [
    {
     "data": {
      "text/plain": [
       "array([[   45,  3412,     8, ...,   796,     3,   466],\n",
       "       [    1,   666,    97, ...,  1251,   574,  1237],\n",
       "       [    7,    19,  1668, ...,   135,     2,    62],\n",
       "       ...,\n",
       "       [    1,   570,    14, ...,     0,     0,     0],\n",
       "       [  475,  9080,     8, ..., 39330,   142,    99],\n",
       "       [    1,   513,     2, ...,     0,     0,     0]])"
      ]
     },
     "execution_count": 19,
     "metadata": {},
     "output_type": "execute_result"
    }
   ],
   "source": [
    "X_train_vect"
   ]
  },
  {
   "cell_type": "code",
   "execution_count": null,
   "id": "70e6f989-f4b3-4cfb-9df1-04f747363777",
   "metadata": {},
   "outputs": [],
   "source": []
  },
  {
   "cell_type": "code",
   "execution_count": null,
   "id": "34567623-65c9-4d78-bd5f-e2b0d9fa90f3",
   "metadata": {},
   "outputs": [],
   "source": []
  },
  {
   "cell_type": "code",
   "execution_count": null,
   "id": "fef27196-f2b1-42bd-af73-25f7e8fa3de9",
   "metadata": {},
   "outputs": [],
   "source": []
  },
  {
   "cell_type": "markdown",
   "id": "98d206b9-b62a-4480-a635-36a1107b5390",
   "metadata": {},
   "source": [
    "# Keras NN"
   ]
  },
  {
   "cell_type": "code",
   "execution_count": 20,
   "id": "3400fa84-c1b7-44dd-8b1b-0e69e863c140",
   "metadata": {},
   "outputs": [
    {
     "name": "stdout",
     "output_type": "stream",
     "text": [
      "Model: \"sequential\"\n",
      "_________________________________________________________________\n",
      " Layer (type)                Output Shape              Param #   \n",
      "=================================================================\n",
      " embedding (Embedding)       (None, 200, 300)          12748800  \n",
      "                                                                 \n",
      " flatten (Flatten)           (None, 60000)             0         \n",
      "                                                                 \n",
      " dense (Dense)               (None, 128)               7680128   \n",
      "                                                                 \n",
      " dense_1 (Dense)             (None, 64)                8256      \n",
      "                                                                 \n",
      " dense_2 (Dense)             (None, 2)                 130       \n",
      "                                                                 \n",
      "=================================================================\n",
      "Total params: 20437314 (77.96 MB)\n",
      "Trainable params: 7688514 (29.33 MB)\n",
      "Non-trainable params: 12748800 (48.63 MB)\n",
      "_________________________________________________________________\n"
     ]
    }
   ],
   "source": [
    "from keras.models import Sequential\n",
    "from keras.layers import Dense, Embedding, Flatten\n",
    "\n",
    "model = Sequential([\n",
    "                    Embedding(input_dim=len(tokenizer.index_word)+1, output_dim=embed_len,\n",
    "                              input_length=max_tokens, trainable=False, weights=[word_embeddings]),\n",
    "                    Flatten(),\n",
    "                    Dense(128, activation=\"relu\"),\n",
    "                    Dense(64, activation=\"relu\"),\n",
    "                    Dense(len(target_classes), activation=\"softmax\")\n",
    "                ])\n",
    "\n",
    "model.summary()"
   ]
  },
  {
   "cell_type": "code",
   "execution_count": 21,
   "id": "83254212-8de8-480d-9d58-c14226812b44",
   "metadata": {},
   "outputs": [],
   "source": [
    "model.compile(optimizer=\"adam\", loss=\"sparse_categorical_crossentropy\", metrics=[\"accuracy\"])"
   ]
  },
  {
   "cell_type": "code",
   "execution_count": 22,
   "id": "81b56d1e-a72b-455c-931a-c518f62beaa7",
   "metadata": {},
   "outputs": [
    {
     "name": "stdout",
     "output_type": "stream",
     "text": [
      "Epoch 1/8\n",
      "150/150 [==============================] - 18s 110ms/step - loss: 0.3994 - accuracy: 0.8325 - val_loss: 0.3310 - val_accuracy: 0.8608\n",
      "Epoch 2/8\n",
      "150/150 [==============================] - 14s 95ms/step - loss: 0.0410 - accuracy: 0.9894 - val_loss: 0.5242 - val_accuracy: 0.8450\n",
      "Epoch 3/8\n",
      "150/150 [==============================] - 13s 90ms/step - loss: 0.0029 - accuracy: 0.9996 - val_loss: 0.6112 - val_accuracy: 0.8550\n",
      "Epoch 4/8\n",
      "150/150 [==============================] - 13s 89ms/step - loss: 2.9626e-04 - accuracy: 1.0000 - val_loss: 0.6554 - val_accuracy: 0.8483\n",
      "Epoch 5/8\n",
      "150/150 [==============================] - 14s 95ms/step - loss: 1.2777e-04 - accuracy: 1.0000 - val_loss: 0.6885 - val_accuracy: 0.8558\n",
      "Epoch 6/8\n",
      "150/150 [==============================] - 14s 90ms/step - loss: 8.5488e-05 - accuracy: 1.0000 - val_loss: 0.7068 - val_accuracy: 0.8558\n",
      "Epoch 7/8\n",
      "150/150 [==============================] - 13s 86ms/step - loss: 6.1285e-05 - accuracy: 1.0000 - val_loss: 0.7264 - val_accuracy: 0.8558\n",
      "Epoch 8/8\n",
      "150/150 [==============================] - 14s 92ms/step - loss: 4.6020e-05 - accuracy: 1.0000 - val_loss: 0.7393 - val_accuracy: 0.8558\n"
     ]
    }
   ],
   "source": [
    "history = model.fit(X_train_vect, Y_train, batch_size=32, epochs=8, validation_data=(X_test_vect, Y_test))"
   ]
  },
  {
   "cell_type": "code",
   "execution_count": 23,
   "id": "657ff787-940e-42bf-9c23-afffdae33176",
   "metadata": {},
   "outputs": [
    {
     "name": "stdout",
     "output_type": "stream",
     "text": [
      "38/38 [==============================] - 1s 9ms/step\n",
      "Test Accuracy : 0.8558333333333333\n",
      "\n",
      "Classification Report : \n",
      "              precision    recall  f1-score   support\n",
      "\n",
      "           0       0.83      0.89      0.86       593\n",
      "           1       0.88      0.83      0.85       607\n",
      "\n",
      "    accuracy                           0.86      1200\n",
      "   macro avg       0.86      0.86      0.86      1200\n",
      "weighted avg       0.86      0.86      0.86      1200\n",
      "\n",
      "\n",
      "Confusion Matrix : \n",
      "[[526  67]\n",
      " [106 501]]\n"
     ]
    }
   ],
   "source": [
    "from sklearn.metrics import accuracy_score, classification_report, confusion_matrix\n",
    "\n",
    "Y_preds = model.predict(X_test_vect).argmax(axis=-1)\n",
    "\n",
    "print(\"Test Accuracy : {}\".format(accuracy_score(Y_test, Y_preds)))\n",
    "print(\"\\nClassification Report : \")\n",
    "print(classification_report(Y_test, Y_preds, target_names=target_classes))\n",
    "print(\"\\nConfusion Matrix : \")\n",
    "print(confusion_matrix(Y_test, Y_preds))"
   ]
  },
  {
   "cell_type": "code",
   "execution_count": 27,
   "id": "eb4f10d6-d915-4b14-a4c4-2043c42cab3c",
   "metadata": {},
   "outputs": [
    {
     "name": "stdout",
     "output_type": "stream",
     "text": [
      "Validation accuracy 0.8558333333333333\n",
      "Validation F1 score: 0.8557356781010276\n"
     ]
    }
   ],
   "source": [
    "from sklearn.metrics import accuracy_score, f1_score\n",
    "\n",
    "print('Validation accuracy %s' % accuracy_score(Y_test, Y_preds))\n",
    "print('Validation F1 score: {}'.format(f1_score(Y_test, Y_preds, average='weighted')))"
   ]
  },
  {
   "cell_type": "code",
   "execution_count": null,
   "id": "084cc3d8-d3a0-44d1-8f5c-b877e9278730",
   "metadata": {},
   "outputs": [],
   "source": []
  },
  {
   "cell_type": "code",
   "execution_count": 25,
   "id": "0b6e1a94-20e3-45a1-9753-17311b927142",
   "metadata": {},
   "outputs": [
    {
     "data": {
      "image/png": "[encoded data removed]",
      "text/plain": [
       "<Figure size 640x480 with 1 Axes>"
      ]
     },
     "metadata": {},
     "output_type": "display_data"
    }
   ],
   "source": [
    "from matplotlib import pyplot as plt\n",
    "\n",
    "plt.plot(history.history['accuracy'])\n",
    "plt.plot(history.history['val_accuracy'])\n",
    "plt.title('model accuracy')\n",
    "plt.ylabel('accuracy')\n",
    "plt.xlabel('epoch')\n",
    "plt.legend(['train', 'val'], loc='upper left')\n",
    "plt.show()"
   ]
  },
  {
   "cell_type": "code",
   "execution_count": null,
   "id": "d0e9af34-cced-4f8f-9dab-a764dfbca87f",
   "metadata": {},
   "outputs": [],
   "source": []
  }
 ],
 "metadata": {
  "kernelspec": {
   "display_name": "Python 3 (ipykernel)",
   "language": "python",
   "name": "python3"
  },
  "language_info": {
   "codemirror_mode": {
    "name": "ipython",
    "version": 3
   },
   "file_extension": ".py",
   "mimetype": "text/x-python",
   "name": "python",
   "nbconvert_exporter": "python",
   "pygments_lexer": "ipython3",
   "version": "3.11.9"
  }
 },
 "nbformat": 4,
 "nbformat_minor": 5
}
